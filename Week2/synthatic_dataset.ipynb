{
 "cells": [
  {
   "cell_type": "markdown",
   "id": "782b63a8",
   "metadata": {},
   "source": [
    "#### IMPORTS"
   ]
  },
  {
   "cell_type": "code",
   "execution_count": 23,
   "id": "0a03d2c6",
   "metadata": {},
   "outputs": [],
   "source": [
    "from faker import Faker\n",
    "import pandas as pd\n",
    "import random\n",
    "import re\n",
    "import csv\n",
    "\n",
    "fake = Faker()"
   ]
  },
  {
   "cell_type": "markdown",
   "id": "f68f4046",
   "metadata": {},
   "source": [
    "### Mentors"
   ]
  },
  {
   "cell_type": "code",
   "execution_count": 24,
   "id": "f17add9b",
   "metadata": {},
   "outputs": [],
   "source": [
    "academic_mentors = []\n",
    "industry_mentors = []\n",
    "universities = [\n",
    "    \"University of Dundee\",\n",
    "    \"University of Edinburgh\",\n",
    "    \"University of Glasgow\"\n",
    "]\n",
    "uni_domain = {\"University of Dundee\" :\"dundee.ac.uk\",\n",
    "    \"University of Edinburgh\":\"edinburgh.ac.uk\",\n",
    "    \"University of Glasgow\":\"glasgow.ac.uk\"}\n",
    "employers = [\n",
    "    \"Tata Consultancy Services\",\n",
    "    \"Amazon Development Centre Scotland\",\n",
    "    \"JP Morgan Chase & Co.\",\n",
    "    \"Barclays Technology Centre\",\n",
    "    \"Skyscanner\",\n",
    "    \"Deloitte UK\",\n",
    "    \"IBM UK Ltd.\",\n",
    "    \"BAE Systems Applied Intelligence\",\n",
    "    \"Morgan Stanley\",\n",
    "    \"Accenture Scotland\"\n",
    "]\n",
    "\n",
    "for i in range(20):\n",
    "    name = fake.name()\n",
    "    email_name = name.lower().replace(\" \",\".\")\n",
    "    univerty = random.choice(universities)\n",
    "    domain = uni_domain[univerty]\n",
    "    academic_mentors.append({\n",
    "        \"mentor_id\" : f'AM{i+1:03d}',\n",
    "        \"name\": name,\n",
    "        \"email\":f'{email_name}@{domain}',\n",
    "        \"university\": univerty\n",
    "    })\n",
    "for i in range(20):\n",
    "    industry_mentors.append({\n",
    "        \"mentor_id\" : f'IM{i+1:03d}',\n",
    "        \"name\" : fake.name(),\n",
    "        \"email\" : fake.company_email(),\n",
    "        \"employer\" : random.choice(employers)\n",
    "    })\n",
    "\n",
    "\n"
   ]
  },
  {
   "cell_type": "markdown",
   "id": "b4de1b58",
   "metadata": {},
   "source": [
    "### Creating Students Profiles"
   ]
  },
  {
   "cell_type": "markdown",
   "id": "f913d95a",
   "metadata": {},
   "source": [
    "### Students"
   ]
  },
  {
   "cell_type": "code",
   "execution_count": 25,
   "id": "718da2d4",
   "metadata": {},
   "outputs": [],
   "source": [
    "#students.csv\n",
    "courses = [\n",
    "    \"Applied Data Science\",\n",
    "    \"Software Engineering Principles\",\n",
    "    \"Computational Modelling and Programming\",\n",
    "    \"Human-Centred Computing\",\n",
    "    \"Cybersecurity and Ethical Hacking\",\n",
    "    \"Professional Project Management\",\n",
    "    \"Research Methods in Computing\",\n",
    "    \"Interactive Media Design\",\n",
    "    \"Big Data Analysis and Visualisation\",\n",
    "    \"Artificial Intelligence and Machine Learning\",\n",
    "    \"Business Intelligence and Strategy\",\n",
    "    \"Information Systems Management\"\n",
    "]\n",
    "students = []\n",
    "years = [1,2,3,4]"
   ]
  },
  {
   "cell_type": "code",
   "execution_count": 26,
   "id": "b40b8aa9",
   "metadata": {},
   "outputs": [],
   "source": [
    "#students\n",
    "for i in range(100): #no of students 100\n",
    "   name = fake.name()\n",
    "   students_email = name.lower().replace(\" \",\".\")\n",
    "   students.append({\n",
    "                   \"student_id\":f\"S{i+1:03d}\",\n",
    "                   \"name\": name,\n",
    "                   \"email\":f'{students_email}@gmail.com',\n",
    "                   \"course\":random.choice(courses),\n",
    "                   \"current_Year\":random.choice(years),\n",
    "                   \"academic_mentors\":random.choice(academic_mentors)[\"mentor_id\"],\n",
    "                   \"industry_mentors\":random.choice(industry_mentors)[\"mentor_id\"]\n",
    "   }\n",
    "   )"
   ]
  },
  {
   "cell_type": "markdown",
   "id": "eb35c169",
   "metadata": {},
   "source": [
    "### Converting to DataFrames"
   ]
  },
  {
   "cell_type": "code",
   "execution_count": 27,
   "id": "a3cc6125",
   "metadata": {},
   "outputs": [],
   "source": [
    "students_df= pd.DataFrame(students) #Converting the raw data in the form of Dataframe/Tables\n",
    "academic_mentors_df = pd.DataFrame(academic_mentors)\n",
    "industry_mentors_df = pd.DataFrame(industry_mentors)"
   ]
  },
  {
   "cell_type": "markdown",
   "id": "a691d7a7",
   "metadata": {},
   "source": [
    "### Exporting the .csv"
   ]
  },
  {
   "cell_type": "code",
   "execution_count": 28,
   "id": "ad0ff219",
   "metadata": {},
   "outputs": [
    {
     "name": "stdout",
     "output_type": "stream",
     "text": [
      "CSV file saved: students.csv\n",
      "CSV file saved: academic_mentors.csv and industry_mentors.csv \n"
     ]
    }
   ],
   "source": [
    "\n",
    "students_df.to_csv(\"students.csv\", index=False)\n",
    "print(\"CSV file saved: students.csv\")\n",
    "\n",
    "academic_mentors_df.to_csv(\"academnic_mentors.csv\",index = False)\n",
    "industry_mentors_df.to_csv(\"industry_mentors.csv\",index = False)\n",
    "\n",
    "print(\"CSV file saved: academic_mentors.csv and industry_mentors.csv \")"
   ]
  },
  {
   "cell_type": "markdown",
   "id": "cf0ba466",
   "metadata": {},
   "source": [
    "### Assignment"
   ]
  },
  {
   "cell_type": "code",
   "execution_count": 29,
   "id": "a9f28439",
   "metadata": {},
   "outputs": [],
   "source": [
    "assignment = []\n",
    "\n",
    "def get_grade(submitted,total):\n",
    "    if submitted == total:\n",
    "        return \"A1\"\n",
    "    elif submitted == total-1:\n",
    "        return \"B1\"\n",
    "    elif submitted == total-2:\n",
    "        return \"B2\"\n",
    "    elif submitted >=1:\n",
    "        return \"C1\"\n",
    "    else:\n",
    "        return \"Fail\"\n",
    "    \n",
    "courses_assignment = {\n",
    "    \"Applied Data Science\": 3,\n",
    "    \"Software Engineering Principles\":5,\n",
    "    \"Computational Modelling and Programming\":3,\n",
    "    \"Human-Centred Computing\":5,\n",
    "    \"Cybersecurity and Ethical Hacking\":4,\n",
    "    \"Professional Project Management\":4,\n",
    "    \"Research Methods in Computing\":3,\n",
    "    \"Interactive Media Design\":4,\n",
    "    \"Big Data Analysis and Visualisation\":3,\n",
    "    \"Artificial Intelligence and Machine Learning\":4,\n",
    "    \"Business Intelligence and Strategy\":5,\n",
    "    \"Information Systems Management\":5\n",
    "}\n",
    "\n",
    "for i,students in enumerate(students):\n",
    "    assignment_id = f'AS{i+1:03d}'\n",
    "    courses = students[\"course\"]\n",
    "    student_id = students[\"student_id\"]\n",
    "    total = courses_assignment.get(courses)\n",
    "    submitted = random.randint(0,total)\n",
    "    grade = get_grade(submitted,total)\n",
    "    \n",
    "    assignment.append({\n",
    "        \"assignment_id\": assignment_id,\n",
    "        \"student_id\": student_id,\n",
    "        \"total_assignments\": total,\n",
    "        \"submitted_assignments\": submitted,\n",
    "        \"assignment_grade\": grade\n",
    "    })\n",
    "    \n",
    "assignment_df = pd.DataFrame(assignment)\n",
    "assignment_df.to_csv(\"assignment.csv\",index=False)"
   ]
  },
  {
   "cell_type": "markdown",
   "id": "37f77350",
   "metadata": {},
   "source": [
    "### Academic progress\n"
   ]
  },
  {
   "cell_type": "code",
   "execution_count": 30,
   "id": "0d754ea9",
   "metadata": {},
   "outputs": [
    {
     "name": "stdout",
     "output_type": "stream",
     "text": [
      "CSV file saved: academic_progress.csv\n"
     ]
    }
   ],
   "source": [
    "academic_progress = []\n",
    "\n",
    "for i in range(100):  \n",
    "    student_id = students_df.iloc[i][\"student_id\"]\n",
    "    assignment_row = assignment_df[assignment_df[\"student_id\"] == student_id]\n",
    "    assignment_grade = assignment_row.iloc[0][\"assignment_grade\"]\n",
    "    \n",
    "    academic_progress.append({\n",
    "        \"academic_progress_id\" : f'AP{i+1:03d}',\n",
    "        \"student_id\": student_id,\n",
    "        \"percentage\": f'{random.randint(40,98)}',\n",
    "        \"assignment\": assignment_grade, \n",
    "        \"attendance\": random.randint(60,100),\n",
    "        \"last_update\" : fake.date_this_month().strftime(\"%Y-%m-%d\")\n",
    "    }\n",
    "    )\n",
    "\n",
    "academic_progress_df = pd.DataFrame(academic_progress)\n",
    "academic_progress_df.to_csv(\"academic_progress.csv\",index=False)\n",
    "print(\"CSV file saved: academic_progress.csv\")"
   ]
  },
  {
   "cell_type": "markdown",
   "id": "c22ab3e9",
   "metadata": {},
   "source": [
    "### Industry Log"
   ]
  },
  {
   "cell_type": "code",
   "execution_count": 31,
   "id": "28eeeb04",
   "metadata": {},
   "outputs": [],
   "source": [
    "industry_progress = []\n",
    "\n",
    "for i in range(100):\n",
    "    student_id = students_df.iloc[i][\"student_id\"]\n",
    "\n",
    "    industry_progress.append({\n",
    "         \"industry_id\": f'IL{i+1:03d}',\n",
    "         \"student_id\" : student_id,\n",
    "         \"attendance\" : random.randint(60,98),\n",
    "         \"Project\"  : random.randint(1,2)\n",
    "    })\n",
    "    \n",
    "industry_progress_df = pd.DataFrame(industry_progress)\n",
    "industry_progress_df.to_csv(\"industry_progress.csv\",index=False)\n",
    "    "
   ]
  },
  {
   "cell_type": "markdown",
   "id": "3c4be600",
   "metadata": {},
   "source": [
    "### Meetings"
   ]
  },
  {
   "cell_type": "code",
   "execution_count": 32,
   "id": "80fe5080",
   "metadata": {},
   "outputs": [],
   "source": [
    "meetings = []\n",
    "\n",
    "for i in range(100):\n",
    "    student_id = students_df.iloc[i][\"student_id\"]\n",
    "    mentor_id = random.choice([students_df.iloc[i][\"academic_mentors\"],\n",
    "                              students_df.iloc[i][\"industry_mentors\"]])\n",
    "\n",
    "    meetings.append({\n",
    "        \"meeting_id\" : f'MEET{i:03d}',\n",
    "        \"student_id\" : student_id,\n",
    "        \"mentor_id\" : mentor_id,\n",
    "        \"date\" : fake.date_this_month().strftime(\"%Y-%m-%d\")\n",
    "    })\n",
    "    \n",
    "meetings_df = pd.DataFrame(meetings)\n",
    "meetings_df.to_csv(\"meetings.csv\",index=False)"
   ]
  },
  {
   "cell_type": "markdown",
   "id": "bf5d817c",
   "metadata": {},
   "source": [
    "### Exception Log"
   ]
  },
  {
   "cell_type": "code",
   "execution_count": 33,
   "id": "1d70b4ca",
   "metadata": {},
   "outputs": [],
   "source": [
    "exception = []\n",
    "\n",
    "exceptions_types= [\n",
    "    # Attendance Exceptions\n",
    "    {\"code\": \"EXC001\", \"reason\": \"Medical Emergency\", \"category\": \"attendance\"},\n",
    "    {\"code\": \"EXC002\", \"reason\": \"Family Emergency\", \"category\": \"attendance\"},\n",
    "    {\"code\": \"EXC003\", \"reason\": \"Corporate Overwork / High Workload\", \"category\": \"attendance\"},\n",
    "    {\"code\": \"EXC004\", \"reason\": \"Approved Leave (Vacation, Wedding, etc.)\", \"category\": \"attendance\"},\n",
    "    {\"code\": \"EXC007\", \"reason\": \"Mental Health Leave / Counselling\", \"category\": \"attendance\"},\n",
    "    {\"code\": \"EXC010\", \"reason\": \"Visa or Legal Paperwork Delays\", \"category\": \"attendance\"},\n",
    "\n",
    "    # Assignment Exceptions\n",
    "    {\"code\": \"EXC001\", \"reason\": \"Medical Emergency\", \"category\": \"assignment\"},\n",
    "    {\"code\": \"EXC002\", \"reason\": \"Family Emergency\", \"category\": \"assignment\"},\n",
    "    {\"code\": \"EXC003\", \"reason\": \"Corporate Overwork / High Workload\", \"category\": \"assignment\"},\n",
    "    {\"code\": \"EXC008\", \"reason\": \"Miscommunication or Delay in Assignment Communication\", \"category\": \"assignment\"},\n",
    "    {\"code\": \"EXC009\", \"reason\": \"Extension Approved by Academic Mentor\", \"category\": \"assignment\"},\n",
    "\n",
    "    # Meeting Exceptions\n",
    "    {\"code\": \"EXC006\", \"reason\": \"Mentor Unavailability / Meeting Canceled by Mentor\", \"category\": \"meeting\"},\n",
    "    {\"code\": \"EXC001\", \"reason\": \"Medical Emergency\", \"category\": \"meeting\"},\n",
    "    {\"code\": \"EXC002\", \"reason\": \"Family Emergency\", \"category\": \"meeting\"},\n",
    "    {\"code\": \"EXC003\", \"reason\": \"Corporate Overwork / High Workload\", \"category\": \"meeting\"},\n",
    "]\n",
    "\n",
    "\n",
    "\n",
    "for i in range(30):\n",
    "    choosen_expetion_reason = random.choice(exceptions_types)\n",
    "    \n",
    "    reason = choosen_expetion_reason[\"reason\"]\n",
    "    category = choosen_expetion_reason[\"category\"]\n",
    "    \n",
    "    \n",
    "    student_id = random.choice(students_df[\"student_id\"].tolist())\n",
    "    \n",
    "    \n",
    "    exception.append({\n",
    "        \"exception_id\": f'EX{i+1:03d}',\n",
    "        \"student_id\" : student_id,\n",
    "        \"reason\": reason,\n",
    "        \"category\": category\n",
    "    })\n",
    "\n",
    "\n",
    "exception_df = pd.DataFrame(exception)\n",
    "exception_df.to_csv(\"exception.csv\",index=False)"
   ]
  },
  {
   "cell_type": "markdown",
   "id": "039408b4",
   "metadata": {},
   "source": []
  }
 ],
 "metadata": {
  "kernelspec": {
   "display_name": "Python 3",
   "language": "python",
   "name": "python3"
  },
  "language_info": {
   "codemirror_mode": {
    "name": "ipython",
    "version": 3
   },
   "file_extension": ".py",
   "mimetype": "text/x-python",
   "name": "python",
   "nbconvert_exporter": "python",
   "pygments_lexer": "ipython3",
   "version": "3.10.18"
  }
 },
 "nbformat": 4,
 "nbformat_minor": 5
}
