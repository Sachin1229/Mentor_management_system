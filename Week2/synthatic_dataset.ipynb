{
 "cells": [
  {
   "cell_type": "markdown",
   "id": "b4de1b58",
   "metadata": {},
   "source": [
    "### Creating Students Profiles"
   ]
  },
  {
   "cell_type": "markdown",
   "id": "a4a71964",
   "metadata": {},
   "source": [
    "Imports"
   ]
  },
  {
   "cell_type": "code",
   "execution_count": 1,
   "id": "a805702d",
   "metadata": {},
   "outputs": [],
   "source": [
    "from faker import Faker\n",
    "import pandas as pd\n",
    "import random\n",
    "\n",
    "fake = Faker()\n"
   ]
  },
  {
   "cell_type": "markdown",
   "id": "f913d95a",
   "metadata": {},
   "source": [
    "PRE-Provided Data"
   ]
  },
  {
   "cell_type": "code",
   "execution_count": 11,
   "id": "718da2d4",
   "metadata": {},
   "outputs": [],
   "source": [
    "\n",
    "departments = [\"Computer Science\" , \"Electrical\" , \"Mechanical\" , \"Civil\"]\n",
    "students = []\n",
    "years = [1,2,3,4]"
   ]
  },
  {
   "cell_type": "markdown",
   "id": "ede06aa0",
   "metadata": {},
   "source": [
    "Generating Data using faker"
   ]
  },
  {
   "cell_type": "code",
   "execution_count": 12,
   "id": "b40b8aa9",
   "metadata": {},
   "outputs": [],
   "source": [
    "\n",
    "for i in range(101): #no of students 100\n",
    "   students.append({\n",
    "                   \"Student_id\":f\"U{i:03d}\",\n",
    "                   \"Name\": fake.name(),\n",
    "                   \"Departments\":random.choice(departments),\n",
    "                   \"Current_Year\":random.choice(years)\n",
    "   }\n",
    "   )"
   ]
  },
  {
   "cell_type": "markdown",
   "id": "da4f0060",
   "metadata": {},
   "source": [
    "Exporting the .csv"
   ]
  },
  {
   "cell_type": "markdown",
   "id": "3a3fe4ce",
   "metadata": {},
   "source": [
    "### Creating and assigning mentors"
   ]
  },
  {
   "cell_type": "code",
   "execution_count": 14,
   "id": "fa43f919",
   "metadata": {},
   "outputs": [],
   "source": [
    "academic_mentors = [f\"A{j:03d}\" for j in range(10)]\n",
    "industry_mentors = [f\"I{j:03d}\" for j in range(10)]\n",
    "\n",
    "for student in students:                           #assigning the mentors\n",
    "    student[\"academic_mentor\"] = random.choice(academic_mentors)\n",
    "    student[\"industry_mentor\"] = random.choice(industry_mentors)\n",
    "    \n",
    "    "
   ]
  },
  {
   "cell_type": "code",
   "execution_count": null,
   "id": "ad0ff219",
   "metadata": {},
   "outputs": [
    {
     "name": "stdout",
     "output_type": "stream",
     "text": [
      "CSV file saved: student_with_mentors.csv\n"
     ]
    }
   ],
   "source": [
    "students_df= pd.DataFrame(students) #Converting the raw data in the form of Dataframe/Tables\n",
    "\n",
    "###print(students_df.head(5))\n",
    "\n",
    "\n",
    "students_df.to_csv(\"students_with_mentors.csv\", index=False)\n",
    "print(\"CSV file saved: student_with_mentors.csv\")"
   ]
  },
  {
   "cell_type": "code",
   "execution_count": null,
   "id": "0d754ea9",
   "metadata": {},
   "outputs": [],
   "source": []
  }
 ],
 "metadata": {
  "kernelspec": {
   "display_name": "Python 3",
   "language": "python",
   "name": "python3"
  },
  "language_info": {
   "codemirror_mode": {
    "name": "ipython",
    "version": 3
   },
   "file_extension": ".py",
   "mimetype": "text/x-python",
   "name": "python",
   "nbconvert_exporter": "python",
   "pygments_lexer": "ipython3",
   "version": "3.10.18"
  }
 },
 "nbformat": 4,
 "nbformat_minor": 5
}
