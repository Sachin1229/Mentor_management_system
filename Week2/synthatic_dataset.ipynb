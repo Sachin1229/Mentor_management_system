{
 "cells": [
  {
   "cell_type": "markdown",
   "id": "782b63a8",
   "metadata": {},
   "source": [
    "#### IMPORTS"
   ]
  },
  {
   "cell_type": "code",
   "execution_count": 173,
   "id": "0a03d2c6",
   "metadata": {},
   "outputs": [],
   "source": [
    "from faker import Faker\n",
    "import pandas as pd\n",
    "import random\n",
    "import re\n",
    "from datetime import date, timedelta, datetime\n",
    "\n",
    "\n",
    "\n",
    "fake = Faker()\n",
    "\n",
    "def clean_name(name):\n",
    "    # Remove prefixes like Dr., Mr., Mrs., Prof., etc. (case-insensitive)\n",
    "    return re.sub(r'^(Dr\\.|Mr\\.|Mrs\\.|Ms\\.|Prof\\.)\\s+', '', name, flags=re.IGNORECASE)"
   ]
  },
  {
   "cell_type": "markdown",
   "id": "f68f4046",
   "metadata": {},
   "source": [
    "### Mentors"
   ]
  },
  {
   "cell_type": "code",
   "execution_count": 174,
   "id": "f17add9b",
   "metadata": {},
   "outputs": [
    {
     "name": "stdout",
     "output_type": "stream",
     "text": [
      "academic_mentor columns Index(['academic_mentor_id', 'name', 'email', 'university'], dtype='object')\n",
      "CSV file saved: academic_mentor.csv and industry_mentor.csv \n"
     ]
    }
   ],
   "source": [
    "academic_mentor = []\n",
    "industry_mentor = []\n",
    "universities = [\n",
    "    \"University of Dundee\",\n",
    "    \"University of Edinburgh\",\n",
    "    \"University of Glasgow\"\n",
    "]\n",
    "uni_domain = {\"University of Dundee\" :\"dundee.ac.uk\",\n",
    "    \"University of Edinburgh\":\"edinburgh.ac.uk\",\n",
    "    \"University of Glasgow\":\"glasgow.ac.uk\"}\n",
    "employers = [\n",
    "    \"Tata Consultancy Services\",\n",
    "    \"Amazon Development Centre Scotland\",\n",
    "    \"JP Morgan Chase & Co.\",\n",
    "    \"Barclays Technology Centre\",\n",
    "    \"Skyscanner\",\n",
    "    \"Deloitte UK\",\n",
    "    \"IBM UK Ltd.\",\n",
    "    \"BAE Systems Applied Intelligence\",\n",
    "    \"Morgan Stanley\",\n",
    "    \"Accenture Scotland\"\n",
    "]\n",
    "\n",
    "for i in range(20):\n",
    "    name = fake.name()\n",
    "    cleaned = clean_name(name)\n",
    "    email_name = cleaned.lower().replace(\" \",\".\")\n",
    "    univerty = random.choice(universities)\n",
    "    domain = uni_domain[univerty]\n",
    "    academic_mentor.append({\n",
    "        \"academic_mentor_id\" : f'AM{i+1:03d}',\n",
    "        \"name\": name,\n",
    "        \"email\":f'{email_name}@{domain}',\n",
    "        \"university\": univerty\n",
    "    })\n",
    "for i in range(20):\n",
    "    name = fake.name()\n",
    "    cleaned = clean_name(name)\n",
    "    industry_mentor.append({\n",
    "        \"industry_mentor_id\" : f'IM{i+1:03d}',\n",
    "        \"name\" : cleaned,\n",
    "        \"email\" : fake.company_email(),\n",
    "        \"employer\" : random.choice(employers)\n",
    "    })\n",
    "\n",
    "academic_mentor_df = pd.DataFrame(academic_mentor)\n",
    "industry_mentor_df = pd.DataFrame(industry_mentor)\n",
    "print(\"academic_mentor columns\",academic_mentor_df.columns)\n",
    "\n",
    "academic_mentor_df.to_csv(\"academic_mentor.csv\",index = False)\n",
    "industry_mentor_df.to_csv(\"industry_mentor.csv\",index = False)\n",
    "\n",
    "print(\"CSV file saved: academic_mentor.csv and industry_mentor.csv \")"
   ]
  },
  {
   "cell_type": "markdown",
   "id": "b4de1b58",
   "metadata": {},
   "source": [
    "### Creating Students Profiles"
   ]
  },
  {
   "cell_type": "markdown",
   "id": "f913d95a",
   "metadata": {},
   "source": [
    "### Students"
   ]
  },
  {
   "cell_type": "code",
   "execution_count": 175,
   "id": "718da2d4",
   "metadata": {},
   "outputs": [],
   "source": [
    "#students.csv\n",
    "courses = [\n",
    "    \"Applied Data Science\",\n",
    "    \"Software Engineering Principles\",\n",
    "    \"Computational Modelling and Programming\",\n",
    "    \"Human-Centred Computing\",\n",
    "    \"Cybersecurity and Ethical Hacking\",\n",
    "    \"Professional Project Management\",\n",
    "    \"Research Methods in Computing\",\n",
    "    \"Interactive Media Design\",\n",
    "    \"Big Data Analysis and Visualisation\",\n",
    "    \"Artificial Intelligence and Machine Learning\",\n",
    "    \"Business Intelligence and Strategy\",\n",
    "    \"Information Systems Management\"\n",
    "]\n",
    "students = []\n",
    "years = [1,2,3,4]"
   ]
  },
  {
   "cell_type": "code",
   "execution_count": 176,
   "id": "b40b8aa9",
   "metadata": {},
   "outputs": [],
   "source": [
    "# Fixed term start and end dates\n",
    "term_start_date = datetime(2025, 4, 1).date()\n",
    "term_end_date = term_start_date + timedelta(weeks=12)\n",
    "\n",
    "for i in range(100):  # no of students 100\n",
    "    name = fake.name()\n",
    "    cleaned = clean_name(name)\n",
    "    students_email = cleaned.lower().replace(\" \", \".\")\n",
    "\n",
    "    students.append({\n",
    "        \"student_id\": f\"S{i+1:03d}\",\n",
    "        \"name\": cleaned,\n",
    "        \"email\": f'{students_email}@gmail.com',\n",
    "        \"course\": random.choice(courses),\n",
    "        \"current_year\": random.choice(years),\n",
    "        \"academic_mentor_id\": random.choice(academic_mentor)[\"academic_mentor_id\"],\n",
    "        \"industry_mentor_id\": random.choice(industry_mentor)[\"industry_mentor_id\"],\n",
    "        \"term_start_date\": term_start_date,\n",
    "        \"term_end_date\": term_end_date\n",
    "    })\n"
   ]
  },
  {
   "cell_type": "markdown",
   "id": "eb35c169",
   "metadata": {},
   "source": [
    "### Converting to DataFrames"
   ]
  },
  {
   "cell_type": "code",
   "execution_count": 177,
   "id": "a3cc6125",
   "metadata": {},
   "outputs": [],
   "source": [
    "students_df= pd.DataFrame(students) #Converting the raw data in the form of Dataframe/Tables"
   ]
  },
  {
   "cell_type": "markdown",
   "id": "a691d7a7",
   "metadata": {},
   "source": [
    "### Exporting the .csv"
   ]
  },
  {
   "cell_type": "code",
   "execution_count": 178,
   "id": "ad0ff219",
   "metadata": {},
   "outputs": [
    {
     "name": "stdout",
     "output_type": "stream",
     "text": [
      "CSV file saved: students.csv\n"
     ]
    }
   ],
   "source": [
    "\n",
    "students_df.to_csv(\"students.csv\", index=False)\n",
    "print(\"CSV file saved: students.csv\")"
   ]
  },
  {
   "cell_type": "markdown",
   "id": "cf0ba466",
   "metadata": {},
   "source": [
    "### Assignment"
   ]
  },
  {
   "cell_type": "code",
   "execution_count": 179,
   "id": "a9f28439",
   "metadata": {},
   "outputs": [
    {
     "name": "stdout",
     "output_type": "stream",
     "text": [
      "assignment.csv \n"
     ]
    }
   ],
   "source": [
    "assignment = []\n",
    "\n",
    "def get_grade(submission_delays):\n",
    "    if submission_delays == 0:\n",
    "        return \"A1\"\n",
    "    elif submission_delays == 1:\n",
    "        return \"A2\"\n",
    "    elif submission_delays == 2:\n",
    "        return \"B1\"\n",
    "    elif submission_delays == 3:\n",
    "        return \"B2\"\n",
    "    elif submission_delays == 4:\n",
    "        return \"C1\"\n",
    "    elif submission_delays == 5:\n",
    "        return \"C2\"\n",
    "    else:\n",
    "        return \"Fail\"\n",
    "\n",
    "for i, student in enumerate(students):\n",
    "    assignment_id = f'AS{i+1:03d}'\n",
    "    student_id = student[\"student_id\"]\n",
    "    \n",
    "    term_end_date = pd.to_datetime(students_df.loc[students_df[\"student_id\"] == student_id, \"term_end_date\"].values[0])\n",
    "    \n",
    "   \n",
    "    \n",
    "    submission_date = term_end_date - pd.Timedelta(weeks=1)\n",
    "    \n",
    "\n",
    "    submission_delays = random.randint(0, 6)\n",
    "    \n",
    "\n",
    "    submitted_date = submission_date + pd.Timedelta(days=submission_delays)\n",
    "    \n",
    "    assignment.append({\n",
    "        \"assignment_id\": assignment_id,\n",
    "        \"student_id\": student_id,\n",
    "        \"submission_date\": submission_date.date(),\n",
    "        \"submitted_date\": submitted_date.date(),\n",
    "        \"assignment_grades\": get_grade(submission_delays)\n",
    "    })\n",
    "\n",
    "assignment_df = pd.DataFrame(assignment)\n",
    "assignment_df.to_csv(\"assignment.csv\", index=False)\n",
    "print(\"assignment.csv \")\n"
   ]
  },
  {
   "cell_type": "markdown",
   "id": "37f77350",
   "metadata": {},
   "source": [
    "### Academic progress\n"
   ]
  },
  {
   "cell_type": "code",
   "execution_count": 180,
   "id": "0d754ea9",
   "metadata": {},
   "outputs": [
    {
     "name": "stdout",
     "output_type": "stream",
     "text": [
      "CSV file saved: academic_progress.csv\n"
     ]
    }
   ],
   "source": [
    "academic_progress = []\n",
    "\n",
    "attendance = []\n",
    "\n",
    "for i in range(100):  \n",
    "    student_id = students_df.iloc[i][\"student_id\"]\n",
    "    assignment_row = assignment_df[assignment_df[\"student_id\"] == student_id]\n",
    "    assignment_grade = assignment_row.iloc[0][\"assignment_grades\"]\n",
    "    \n",
    "    no_of_courses = random.randint(1,3)\n",
    "    classes_per_course = random.randint(8,15)\n",
    "    weeks = 12\n",
    "    \n",
    "    total_required_classes = no_of_courses*classes_per_course\n",
    "    classes_attended = round(random.triangular(\n",
    "    low=total_required_classes * 0.4, # Set a minimum of 40%\n",
    "    high=total_required_classes,      \n",
    "    mode=total_required_classes * 0.85 # Most students will have around 85% attendance\n",
    "))\n",
    "    \n",
    "    attendance_percentage = (classes_attended/total_required_classes)*100\n",
    "    \n",
    "    \n",
    "    academic_progress.append({\n",
    "        \"academic_progress_id\" : f'AP{i+1:03d}',\n",
    "        \"student_id\": student_id,\n",
    "        \"number_of_courses\":no_of_courses,\n",
    "        \"academic_percentage\": attendance_percentage,\n",
    "        \"assignment\": assignment_grade, \n",
    "        \"total_required_attendance\":total_required_classes,\n",
    "        \"classes_attended\":classes_attended,\n",
    "    }\n",
    "    )\n",
    "\n",
    "academic_progress_df = pd.DataFrame(academic_progress)\n",
    "academic_progress_df.to_csv(\"academic_progress.csv\",index=False)\n",
    "print(\"CSV file saved: academic_progress.csv\")"
   ]
  },
  {
   "cell_type": "markdown",
   "id": "c22ab3e9",
   "metadata": {},
   "source": [
    "### Industry Log"
   ]
  },
  {
   "cell_type": "code",
   "execution_count": 181,
   "id": "28eeeb04",
   "metadata": {},
   "outputs": [],
   "source": [
    "industry_progress = []\n",
    "\n",
    "for i in range(100):\n",
    "    student_id = students_df.iloc[i][\"student_id\"]\n",
    "\n",
    "    industry_progress.append({\n",
    "         \"industry_id\": f'IL{i+1:03d}',\n",
    "         \"student_id\" : student_id,\n",
    "         \"hours_per_week\" : random.randint(60,150),\n",
    "         \"no_of_tasks\"  : random.randint(5,20)\n",
    "    })\n",
    "    \n",
    "industry_progress_df = pd.DataFrame(industry_progress)\n",
    "industry_progress_df.to_csv(\"industry_progress.csv\",index=False)\n",
    "    "
   ]
  },
  {
   "cell_type": "markdown",
   "id": "3c4be600",
   "metadata": {},
   "source": [
    "### Meetings"
   ]
  },
  {
   "cell_type": "code",
   "execution_count": 182,
   "id": "80fe5080",
   "metadata": {},
   "outputs": [],
   "source": [
    "def generate_random_date():\n",
    "    if random.random() < 0.2: \n",
    "        return None\n",
    "    start_date = date.today() - timedelta(days=180)\n",
    "    random_date = fake.date_between(start_date=start_date, end_date='today')\n",
    "    return random_date.strftime(\"%Y-%m-%d\")\n",
    "\n",
    "\n",
    "meetings = []\n",
    "\n",
    "for i in range(100):\n",
    "    student_id = students_df.iloc[i][\"student_id\"]\n",
    "    \n",
    "    student_meetings = {\"student_id\": student_id}\n",
    "\n",
    "\n",
    "    if random.random() > 0.3: \n",
    "        student_meetings[\"academic_meeting_id\"] = f'AMEET{i+1:03d}'\n",
    "        student_meetings[\"academic_meeting_date\"] = generate_random_date()\n",
    "    else:\n",
    "        student_meetings[\"academic_meeting_id\"] = None\n",
    "        student_meetings[\"academic_meeting_date\"] = None\n",
    "\n",
    "    \n",
    "    if random.random() > 0.4: \n",
    "        student_meetings[\"industry_meeting_id\"] = f'IMEET{i+1:03d}'\n",
    "        student_meetings[\"industry_meeting_date\"] = generate_random_date()\n",
    "    else:\n",
    "        student_meetings[\"industry_meeting_id\"] = None\n",
    "        student_meetings[\"industry_meeting_date\"] = None\n",
    "\n",
    "    meetings.append(student_meetings)\n",
    "\n",
    "meetings_df = pd.DataFrame(meetings)\n",
    "meetings_df.fillna({\n",
    "    \"academic_meeting_id\": \"No Meeting\",\n",
    "    \"academic_meeting_date\": \"NULL\",\n",
    "    \"industry_meeting_id\": \"No Meeting\",\n",
    "    \"industry_meeting_date\": \"NULL\"\n",
    "}, inplace=True)\n",
    "\n",
    "meetings_df.to_csv(\"meetings.csv\", index=False)"
   ]
  },
  {
   "cell_type": "markdown",
   "id": "bf5d817c",
   "metadata": {},
   "source": [
    "### Request Log"
   ]
  },
  {
   "cell_type": "code",
   "execution_count": 183,
   "id": "1d70b4ca",
   "metadata": {},
   "outputs": [
    {
     "name": "stdout",
     "output_type": "stream",
     "text": [
      "request.csv generated \n"
     ]
    }
   ],
   "source": [
    "requests = []\n",
    "request_types = [\n",
    "    # Attendance requests\n",
    "    {\"code\": \"EXC001\", \"reason\": \"Medical Emergency\", \"category\": \"attendance\"},\n",
    "    {\"code\": \"EXC002\", \"reason\": \"Family Emergency\", \"category\": \"attendance\"},\n",
    "    {\"code\": \"EXC003\", \"reason\": \"Corporate Overwork / High Workload\", \"category\": \"attendance\"},\n",
    "    {\"code\": \"EXC004\", \"reason\": \"Approved Leave (Vacation, Wedding, etc.)\", \"category\": \"attendance\"},\n",
    "    {\"code\": \"EXC007\", \"reason\": \"Mental Health Leave / Counselling\", \"category\": \"attendance\"},\n",
    "    {\"code\": \"EXC010\", \"reason\": \"Visa or Legal Paperwork Delays\", \"category\": \"attendance\"},\n",
    "    \n",
    "    # Assignment request\n",
    "    {\"code\": \"EXC001\", \"reason\": \"Medical Emergency\", \"category\": \"assignment\"},\n",
    "    {\"code\": \"EXC002\", \"reason\": \"Family Emergency\", \"category\": \"assignment\"},\n",
    "    {\"code\": \"EXC003\", \"reason\": \"Corporate Overwork / High Workload\", \"category\": \"assignment\"},\n",
    "    {\"code\": \"EXC008\", \"reason\": \"Miscommunication or Delay in Assignment Communication\", \"category\": \"assignment\"},\n",
    "    {\"code\": \"EXC009\", \"reason\": \"Extension Approved by Academic Mentor\", \"category\": \"assignment\"},\n",
    "    \n",
    "    # Meeting request\n",
    "    {\"code\": \"EXC006\", \"reason\": \"Mentor Unavailability / Meeting Canceled by Mentor\", \"category\": \"meeting\"},\n",
    "    {\"code\": \"EXC001\", \"reason\": \"Medical Emergency\", \"category\": \"meeting\"},\n",
    "    {\"code\": \"EXC002\", \"reason\": \"Family Emergency\", \"category\": \"meeting\"},\n",
    "    {\"code\": \"EXC003\", \"reason\": \"Corporate Overwork / High Workload\", \"category\": \"meeting\"},\n",
    "]\n",
    "\n",
    "request_id_counter = 1\n",
    "\n",
    "for _, row in students_df.iterrows():\n",
    "    student_id = row[\"student_id\"]\n",
    "    term_start = pd.to_datetime(row[\"term_start_date\"])\n",
    "    term_end = pd.to_datetime(row[\"term_end_date\"])\n",
    "\n",
    "    num_requests = random.randint(0, 4)\n",
    "    for _ in range(num_requests):\n",
    "        chosen = random.choice(request_types)\n",
    "        request_date = fake.date_between(start_date=term_start, end_date=term_end)\n",
    "\n",
    "        requests.append({\n",
    "            \"request_id\": f\"RQ{request_id_counter:03d}\",\n",
    "            \"student_id\": student_id,\n",
    "            \"reason\": chosen[\"reason\"],\n",
    "            \"category\": chosen[\"category\"],\n",
    "            \"request_date\": request_date\n",
    "        })\n",
    "        request_id_counter += 1\n",
    "\n",
    "\n",
    "request_df = pd.DataFrame(requests)\n",
    "request_df.to_csv(\"request.csv\", index=False)\n",
    "print(\"request.csv generated \")\n"
   ]
  },
  {
   "cell_type": "markdown",
   "id": "039408b4",
   "metadata": {},
   "source": [
    "### Merged dataset"
   ]
  },
  {
   "cell_type": "code",
   "execution_count": 184,
   "id": "ff4f5e1e",
   "metadata": {},
   "outputs": [
    {
     "name": "stdout",
     "output_type": "stream",
     "text": [
      "Final master_mmms.csv saved successfully\n"
     ]
    }
   ],
   "source": [
    "merged_df = pd.merge(students_df, assignment_df, on=\"student_id\", how=\"left\")\n",
    "merged_df = pd.merge(merged_df, academic_progress_df, on=\"student_id\", how=\"left\")\n",
    "merged_df = pd.merge(merged_df, industry_progress_df, on=\"student_id\", how=\"left\")\n",
    "merged_df = pd.merge(merged_df, meetings_df, on=\"student_id\", how=\"left\")\n",
    "\n",
    "request_grouped = request_df.groupby(\"student_id\").agg({\n",
    "    \"request_id\": [\n",
    "        lambda x: ', '.join(x.astype(str)),  \n",
    "        'count'                             \n",
    "    ],\n",
    "    \"reason\": lambda x: ', '.join(x),\n",
    "    \"category\": lambda x: ', '.join(x)\n",
    "}).reset_index()\n",
    "\n",
    "request_grouped.columns = [\n",
    "    \"student_id\",\n",
    "    \"request_id\",            \n",
    "    \"num_mitigation_requests\",  \n",
    "    \"reason\",\n",
    "    \"category\"\n",
    "]\n",
    "\n",
    "merged_df = pd.merge(merged_df, request_grouped, on=\"student_id\", how=\"left\")\n",
    "\n",
    "academic_mentor_df = academic_mentor_df.rename(columns={\n",
    "    \"name\": \"academic_mentor_name\",\n",
    "    \"email\": \"academic_mentor_email\",\n",
    "    \"university\": \"academic_mentor_university\"\n",
    "})\n",
    "\n",
    "merged_df = pd.merge(merged_df, academic_mentor_df, on=\"academic_mentor_id\", how=\"left\")\n",
    "\n",
    "industry_mentor_df = industry_mentor_df.rename(columns={\n",
    "    \"name\": \"industry_mentor_name\",\n",
    "    \"email\": \"industry_mentor_email\",\n",
    "    \"employer\": \"industry_mentor_employer\"\n",
    "})\n",
    "\n",
    "merged_df = pd.merge(merged_df, industry_mentor_df, on=\"industry_mentor_id\", how=\"left\")\n",
    "\n",
    "\n",
    "merged_df.fillna({\n",
    "    \"request_id\": \"None\",\n",
    "    \"reason\": \"None\",\n",
    "    \"category\": \"None\",\n",
    "    \"num_mitigation_requests\": 0\n",
    "}, inplace=True)\n",
    "\n",
    "merged_df.fillna({\n",
    "    \"academic_meeting_id\": \"No Meeting\",\n",
    "    \"academic_meeting_date\": \"NULL\",\n",
    "    \"industry_meeting_id\": \"No Meeting\",\n",
    "    \"industry_meeting_date\": \"NULL\"\n",
    "}, inplace=True)\n",
    "\n",
    "merged_df = merged_df[[\n",
    "    \"student_id\", \"name\", \"email\", \"course\", \"current_year\", \n",
    "    \"term_start_date\", \"term_end_date\", \n",
    "    \"academic_mentor_id\", \"academic_mentor_name\", \"academic_mentor_email\", \"academic_mentor_university\",\n",
    "    \"industry_mentor_id\", \"industry_mentor_name\", \"industry_mentor_email\", \"industry_mentor_employer\",\n",
    "    \"academic_progress_id\", \"number_of_courses\", \"total_required_attendance\", \"classes_attended\",\n",
    "    \"assignment_id\", \"submission_date\", \"submitted_date\" , \"assignment_grades\",\n",
    "    \"industry_id\", \"hours_per_week\", \"no_of_tasks\",\n",
    "    \"academic_meeting_id\", \"academic_meeting_date\",\n",
    "    \"industry_meeting_id\", \"industry_meeting_date\",\n",
    "    \"request_id\", \"num_mitigation_requests\", \"reason\", \"category\"\n",
    "]]\n",
    "\n",
    "merged_df.to_csv(\"master_mmms.csv\", index=False)\n",
    "print(\"Final master_mmms.csv saved successfully\")\n"
   ]
  }
 ],
 "metadata": {
  "kernelspec": {
   "display_name": "Python 3",
   "language": "python",
   "name": "python3"
  },
  "language_info": {
   "codemirror_mode": {
    "name": "ipython",
    "version": 3
   },
   "file_extension": ".py",
   "mimetype": "text/x-python",
   "name": "python",
   "nbconvert_exporter": "python",
   "pygments_lexer": "ipython3",
   "version": "3.10.18"
  }
 },
 "nbformat": 4,
 "nbformat_minor": 5
}
